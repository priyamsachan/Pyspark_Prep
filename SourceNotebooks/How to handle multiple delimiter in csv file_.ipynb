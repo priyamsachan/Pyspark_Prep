{
 "cells": [
  {
   "cell_type": "code",
   "execution_count": 0,
   "metadata": {
    "application/vnd.databricks.v1+cell": {
     "cellMetadata": {
      "byteLimit": 2048000,
      "rowLimit": 10000
     },
     "inputWidgets": {},
     "nuid": "9454d73a-07d2-40e0-b5a3-e5c3dfb732f8",
     "showTitle": false,
     "title": ""
    }
   },
   "outputs": [
    {
     "output_type": "stream",
     "name": "stdout",
     "output_type": "stream",
     "text": [
      "Wrote 166 bytes.\n"
     ]
    },
    {
     "output_type": "execute_result",
     "data": {
      "text/plain": [
       "'\\nSaleID|Product|Quantity|Price\\n1|ProductA|10,20,30|20.5\\n2|ProductB|5,6,9|15.0\\n3|ProductC|7,6,2|30.0\\n4|ProductD|3,5,6|12.5\\n5|ProductE|8,7,2|50.0\\n6|ProductF|2,5,9|60.0\\n'"
      ]
     },
     "execution_count": 6,
     "metadata": {},
     "output_type": "execute_result"
    }
   ],
   "source": [
    "# Sample data\n",
    "sales_data = \"\"\"\n",
    "SaleID|Product|Quantity|Price\n",
    "1|ProductA|10,20,30|20.5\n",
    "2|ProductB|5,6,9|15.0\n",
    "3|ProductC|7,6,2|30.0\n",
    "4|ProductD|3,5,6|12.5\n",
    "5|ProductE|8,7,2|50.0\n",
    "6|ProductF|2,5,9|60.0\n",
    "\"\"\"\n",
    "\n",
    "# File path\n",
    "dbutils.fs.put('/FileStore/tables/multiple-delimiter.csv',str(sales_data),True)\n",
    "\n",
    "\n",
    "dbutils.fs.head('/FileStore/tables/multiple-delimiter.csv')"
   ]
  },
  {
   "cell_type": "code",
   "execution_count": 0,
   "metadata": {
    "application/vnd.databricks.v1+cell": {
     "cellMetadata": {
      "byteLimit": 2048000,
      "rowLimit": 10000
     },
     "inputWidgets": {},
     "nuid": "4f905eb8-fcb9-458f-a84d-9279df3c9c87",
     "showTitle": false,
     "title": ""
    }
   },
   "outputs": [
    {
     "output_type": "display_data",
     "data": {
      "text/html": [
       "<style scoped>\n",
       "  .table-result-container {\n",
       "    max-height: 300px;\n",
       "    overflow: auto;\n",
       "  }\n",
       "  table, th, td {\n",
       "    border: 1px solid black;\n",
       "    border-collapse: collapse;\n",
       "  }\n",
       "  th, td {\n",
       "    padding: 5px;\n",
       "  }\n",
       "  th {\n",
       "    text-align: left;\n",
       "  }\n",
       "</style><div class='table-result-container'><table class='table-result'><thead style='background-color: white'><tr><th>SaleID</th><th>Product</th><th>Quantity</th><th>Price</th></tr></thead><tbody><tr><td>1</td><td>ProductA</td><td>10,20,30</td><td>20.5</td></tr><tr><td>2</td><td>ProductB</td><td>5,6,9</td><td>15.0</td></tr><tr><td>3</td><td>ProductC</td><td>7,6,2</td><td>30.0</td></tr><tr><td>4</td><td>ProductD</td><td>3,5,6</td><td>12.5</td></tr><tr><td>5</td><td>ProductE</td><td>8,7,2</td><td>50.0</td></tr><tr><td>6</td><td>ProductF</td><td>2,5,9</td><td>60.0</td></tr></tbody></table></div>"
      ]
     },
     "metadata": {
      "application/vnd.databricks.v1+output": {
       "addedWidgets": {},
       "aggData": [],
       "aggError": "",
       "aggOverflow": false,
       "aggSchema": [],
       "aggSeriesLimitReached": false,
       "aggType": "",
       "arguments": {},
       "columnCustomDisplayInfos": {},
       "data": [
        [
         "1",
         "ProductA",
         "10,20,30",
         "20.5"
        ],
        [
         "2",
         "ProductB",
         "5,6,9",
         "15.0"
        ],
        [
         "3",
         "ProductC",
         "7,6,2",
         "30.0"
        ],
        [
         "4",
         "ProductD",
         "3,5,6",
         "12.5"
        ],
        [
         "5",
         "ProductE",
         "8,7,2",
         "50.0"
        ],
        [
         "6",
         "ProductF",
         "2,5,9",
         "60.0"
        ]
       ],
       "datasetInfos": [],
       "dbfsResultPath": null,
       "isJsonSchema": true,
       "metadata": {},
       "overflow": false,
       "plotOptions": {
        "customPlotOptions": {},
        "displayType": "table",
        "pivotAggregation": null,
        "pivotColumns": null,
        "xColumns": null,
        "yColumns": null
       },
       "removedWidgets": [],
       "schema": [
        {
         "metadata": "{}",
         "name": "SaleID",
         "type": "\"string\""
        },
        {
         "metadata": "{}",
         "name": "Product",
         "type": "\"string\""
        },
        {
         "metadata": "{}",
         "name": "Quantity",
         "type": "\"string\""
        },
        {
         "metadata": "{}",
         "name": "Price",
         "type": "\"string\""
        }
       ],
       "type": "table"
      }
     },
     "output_type": "display_data"
    }
   ],
   "source": [
    "df=spark.read.format('csv').option('header',True).option('sep','|').load('/FileStore/tables/multiple-delimiter.csv')\n",
    "display(df)"
   ]
  },
  {
   "cell_type": "code",
   "execution_count": 0,
   "metadata": {
    "application/vnd.databricks.v1+cell": {
     "cellMetadata": {
      "byteLimit": 2048000,
      "rowLimit": 10000
     },
     "inputWidgets": {},
     "nuid": "efd5dd09-74b3-4457-9621-cbe7e5e5d385",
     "showTitle": false,
     "title": ""
    }
   },
   "outputs": [
    {
     "output_type": "display_data",
     "data": {
      "text/html": [
       "<style scoped>\n",
       "  .table-result-container {\n",
       "    max-height: 300px;\n",
       "    overflow: auto;\n",
       "  }\n",
       "  table, th, td {\n",
       "    border: 1px solid black;\n",
       "    border-collapse: collapse;\n",
       "  }\n",
       "  th, td {\n",
       "    padding: 5px;\n",
       "  }\n",
       "  th {\n",
       "    text-align: left;\n",
       "  }\n",
       "</style><div class='table-result-container'><table class='table-result'><thead style='background-color: white'><tr><th>SaleID</th><th>Product</th><th>Price</th><th>Quantity1</th><th>Quantity2</th><th>Quantity3</th></tr></thead><tbody><tr><td>1</td><td>ProductA</td><td>20.5</td><td>10</td><td>20</td><td>30</td></tr><tr><td>2</td><td>ProductB</td><td>15.0</td><td>5</td><td>6</td><td>9</td></tr><tr><td>3</td><td>ProductC</td><td>30.0</td><td>7</td><td>6</td><td>2</td></tr><tr><td>4</td><td>ProductD</td><td>12.5</td><td>3</td><td>5</td><td>6</td></tr><tr><td>5</td><td>ProductE</td><td>50.0</td><td>8</td><td>7</td><td>2</td></tr><tr><td>6</td><td>ProductF</td><td>60.0</td><td>2</td><td>5</td><td>9</td></tr></tbody></table></div>"
      ]
     },
     "metadata": {
      "application/vnd.databricks.v1+output": {
       "addedWidgets": {},
       "aggData": [],
       "aggError": "",
       "aggOverflow": false,
       "aggSchema": [],
       "aggSeriesLimitReached": false,
       "aggType": "",
       "arguments": {},
       "columnCustomDisplayInfos": {},
       "data": [
        [
         "1",
         "ProductA",
         "20.5",
         "10",
         "20",
         "30"
        ],
        [
         "2",
         "ProductB",
         "15.0",
         "5",
         "6",
         "9"
        ],
        [
         "3",
         "ProductC",
         "30.0",
         "7",
         "6",
         "2"
        ],
        [
         "4",
         "ProductD",
         "12.5",
         "3",
         "5",
         "6"
        ],
        [
         "5",
         "ProductE",
         "50.0",
         "8",
         "7",
         "2"
        ],
        [
         "6",
         "ProductF",
         "60.0",
         "2",
         "5",
         "9"
        ]
       ],
       "datasetInfos": [],
       "dbfsResultPath": null,
       "isJsonSchema": true,
       "metadata": {},
       "overflow": false,
       "plotOptions": {
        "customPlotOptions": {},
        "displayType": "table",
        "pivotAggregation": null,
        "pivotColumns": null,
        "xColumns": null,
        "yColumns": null
       },
       "removedWidgets": [],
       "schema": [
        {
         "metadata": "{}",
         "name": "SaleID",
         "type": "\"string\""
        },
        {
         "metadata": "{}",
         "name": "Product",
         "type": "\"string\""
        },
        {
         "metadata": "{}",
         "name": "Price",
         "type": "\"string\""
        },
        {
         "metadata": "{}",
         "name": "Quantity1",
         "type": "\"string\""
        },
        {
         "metadata": "{}",
         "name": "Quantity2",
         "type": "\"string\""
        },
        {
         "metadata": "{}",
         "name": "Quantity3",
         "type": "\"string\""
        }
       ],
       "type": "table"
      }
     },
     "output_type": "display_data"
    }
   ],
   "source": [
    "from pyspark.sql.functions import col,split\n",
    "df_output=df.withColumn(\"Quantity1\",split(col(\"Quantity\"),',')[0]).withColumn(\"Quantity2\",split(col(\"Quantity\"),',')[1]).withColumn(\"Quantity3\",split(col(\"Quantity\"),',')[2]).drop(\"Quantity\")\n",
    "display(df_output)"
   ]
  }
 ],
 "metadata": {
  "application/vnd.databricks.v1+notebook": {
   "dashboards": [],
   "environmentMetadata": null,
   "language": "python",
   "notebookMetadata": {
    "pythonIndentUnit": 4
   },
   "notebookName": "How to handle multiple delimiter in csv file?",
   "widgets": {}
  }
 },
 "nbformat": 4,
 "nbformat_minor": 0
}
